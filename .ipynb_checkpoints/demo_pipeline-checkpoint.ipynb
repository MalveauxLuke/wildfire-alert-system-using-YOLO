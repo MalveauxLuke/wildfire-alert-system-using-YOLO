{
 "cells": [
  {
   "cell_type": "markdown",
   "id": "2ece9d88-885e-4026-95b6-58dc7dfaf489",
   "metadata": {},
   "source": [
    "# Wildfire Detection Pipeline – Demo\n",
    "\n",
    "This notebook demonstrates how to run the full YOLO-based wildfire detection system using a simulated live stream or the provided test video.\n",
    "\n",
    "The pipeline:\n",
    "1. Fetches frames from a live stream or test video file\n",
    "2. Runs detection using two YOLO models (A + B)\n",
    "3. Validates results, maintains detection counters, and triggers alerts\n",
    "4. Saves annotated images and optionally sends alerts"
   ]
  },
  {
   "cell_type": "markdown",
   "id": "e2bf225e-b560-445e-9857-b60abd89a9fc",
   "metadata": {},
   "source": [
    "## Setup"
   ]
  },
  {
   "cell_type": "markdown",
   "id": "c8bf8113-8df0-4739-ad65-72b4d43ff461",
   "metadata": {},
   "source": [
    "1. **Install dependencies from `requirements.txt`:**\n",
    "\n",
    "   ```bash\n",
    "   pip install -r requirements.txt   \n",
    "2. **Edit `config.yaml` With your desired values and live stream link / test video (If you use the test video)**\n",
    "3. **Set up SMTP credentials**  \n",
    "   Store your email password securely in an environment variable. The name of the variable must match the `password_env` field in `config.yaml`."
   ]
  },
  {
   "cell_type": "markdown",
   "id": "2cbe43b4-b944-471b-9dcf-d672424ee7cd",
   "metadata": {},
   "source": [
    "## Run Pipeline\n",
    "\n",
    "This step is better run in a terminal but for demonstration purposes i will run it in the notebook."
   ]
  },
  {
   "cell_type": "code",
   "execution_count": 2,
   "id": "fbc490c2-224d-4cbf-84d4-a00e6518b137",
   "metadata": {
    "collapsed": true,
    "jupyter": {
     "outputs_hidden": true
    },
    "scrolled": true
   },
   "outputs": [
    {
     "name": "stdout",
     "output_type": "stream",
     "text": [
      "YOLO11s summary (fused): 100 layers, 9,413,574 parameters, 0 gradients, 21.3 GFLOPs\n",
      "YOLO11m summary (fused): 125 layers, 20,031,574 parameters, 0 gradients, 67.7 GFLOPs\n",
      "[2025-06-11 13:14:44] Potential Wildfire Detected. Running validation tests...\n",
      "[2025-06-11 13:14:45] Secondary validation for 'Smoke' returned negative — possible false positive from the primary model.\n",
      "Current smoke danger level: 0/20. Requires 1 more failed validations to fully suppress the alert.\n"
     ]
    },
    {
     "name": "stderr",
     "output_type": "stream",
     "text": [
      "2025-06-11 13:14:53,733 [INFO] Potential wildfire detected. Email alert sent.\n"
     ]
    },
    {
     "name": "stdout",
     "output_type": "stream",
     "text": [
      "[2025-06-11 13:14:53] Potential Wildfire Detected. Running validation tests...\n"
     ]
    },
    {
     "name": "stderr",
     "output_type": "stream",
     "text": [
      "2025-06-11 13:15:21,491 [WARNING] Stream read failure.\n",
      "2025-06-11 13:15:22,494 [WARNING] Stream read failure.\n",
      "2025-06-11 13:15:23,495 [WARNING] Stream read failure.\n",
      "2025-06-11 13:15:24,497 [WARNING] Stream read failure.\n",
      "2025-06-11 13:15:25,498 [WARNING] Stream read failure.\n",
      "2025-06-11 13:15:26,499 [WARNING] Stream read failure.\n",
      "2025-06-11 13:15:27,500 [WARNING] Stream read failure.\n",
      "2025-06-11 13:15:28,502 [WARNING] Stream read failure.\n",
      "2025-06-11 13:15:29,503 [WARNING] Stream read failure.\n",
      "2025-06-11 13:15:30,505 [WARNING] Stream read failure.\n",
      "2025-06-11 13:15:31,507 [WARNING] Stream read failure.\n",
      "2025-06-11 13:15:32,509 [WARNING] Stream read failure.\n",
      "2025-06-11 13:15:33,510 [WARNING] Stream read failure.\n",
      "2025-06-11 13:15:34,512 [WARNING] Stream read failure.\n",
      "2025-06-11 13:15:35,513 [WARNING] Stream read failure.\n",
      "2025-06-11 13:15:36,515 [WARNING] Stream read failure.\n",
      "2025-06-11 13:15:37,516 [WARNING] Stream read failure.\n",
      "2025-06-11 13:15:38,518 [WARNING] Stream read failure.\n",
      "2025-06-11 13:15:39,519 [WARNING] Stream read failure.\n",
      "2025-06-11 13:15:40,521 [WARNING] Stream read failure.\n",
      "2025-06-11 13:15:41,523 [WARNING] Stream read failure.\n",
      "2025-06-11 13:15:42,524 [WARNING] Stream read failure.\n",
      "2025-06-11 13:15:43,526 [WARNING] Stream read failure.\n",
      "2025-06-11 13:15:44,527 [WARNING] Stream read failure.\n",
      "2025-06-11 13:15:45,528 [WARNING] Stream read failure.\n",
      "2025-06-11 13:15:46,530 [WARNING] Stream read failure.\n",
      "2025-06-11 13:15:47,531 [WARNING] Stream read failure.\n",
      "2025-06-11 13:15:48,533 [WARNING] Stream read failure.\n",
      "2025-06-11 13:15:49,535 [WARNING] Stream read failure.\n",
      "2025-06-11 13:15:50,536 [WARNING] Stream read failure.\n",
      "2025-06-11 13:15:51,539 [WARNING] Stream read failure.\n",
      "2025-06-11 13:15:52,541 [WARNING] Stream read failure.\n",
      "2025-06-11 13:15:53,544 [WARNING] Stream read failure.\n",
      "2025-06-11 13:15:54,545 [WARNING] Stream read failure.\n",
      "2025-06-11 13:15:55,547 [WARNING] Stream read failure.\n",
      "2025-06-11 13:15:56,549 [WARNING] Stream read failure.\n",
      "2025-06-11 13:15:57,551 [WARNING] Stream read failure.\n",
      "2025-06-11 13:15:58,552 [WARNING] Stream read failure.\n",
      "2025-06-11 13:15:59,554 [WARNING] Stream read failure.\n",
      "2025-06-11 13:16:00,555 [WARNING] Stream read failure.\n",
      "2025-06-11 13:16:01,557 [WARNING] Stream read failure.\n",
      "2025-06-11 13:16:02,559 [WARNING] Stream read failure.\n",
      "2025-06-11 13:16:03,562 [WARNING] Stream read failure.\n",
      "2025-06-11 13:16:04,564 [WARNING] Stream read failure.\n",
      "2025-06-11 13:16:05,567 [WARNING] Stream read failure.\n",
      "2025-06-11 13:16:06,569 [WARNING] Stream read failure.\n",
      "2025-06-11 13:16:07,572 [WARNING] Stream read failure.\n",
      "2025-06-11 13:16:08,574 [WARNING] Stream read failure.\n",
      "2025-06-11 13:16:09,576 [WARNING] Stream read failure.\n",
      "2025-06-11 13:16:10,577 [WARNING] Stream read failure.\n",
      "2025-06-11 13:16:11,579 [WARNING] Stream read failure.\n",
      "2025-06-11 13:16:12,582 [WARNING] Stream read failure.\n",
      "2025-06-11 13:16:13,584 [WARNING] Stream read failure.\n",
      "2025-06-11 13:16:14,586 [WARNING] Stream read failure.\n",
      "2025-06-11 13:16:15,588 [WARNING] Stream read failure.\n",
      "2025-06-11 13:16:16,590 [WARNING] Stream read failure.\n"
     ]
    },
    {
     "ename": "KeyboardInterrupt",
     "evalue": "",
     "output_type": "error",
     "traceback": [
      "\u001b[1;31m---------------------------------------------------------------------------\u001b[0m",
      "\u001b[1;31mKeyboardInterrupt\u001b[0m                         Traceback (most recent call last)",
      "File \u001b[1;32m~\\Projects\\WIldFire Detection Pipeline\\pipeline\\run_pipeline.py:168\u001b[0m\n\u001b[0;32m    164\u001b[0m             \u001b[38;5;28;01mpass\u001b[39;00m\n\u001b[0;32m    167\u001b[0m \u001b[38;5;28;01mif\u001b[39;00m \u001b[38;5;18m__name__\u001b[39m \u001b[38;5;241m==\u001b[39m \u001b[38;5;124m\"\u001b[39m\u001b[38;5;124m__main__\u001b[39m\u001b[38;5;124m\"\u001b[39m:\n\u001b[1;32m--> 168\u001b[0m     main()\n",
      "File \u001b[1;32m~\\Projects\\WIldFire Detection Pipeline\\pipeline\\run_pipeline.py:66\u001b[0m, in \u001b[0;36mmain\u001b[1;34m()\u001b[0m\n\u001b[0;32m     64\u001b[0m \u001b[38;5;28;01mif\u001b[39;00m \u001b[38;5;129;01mnot\u001b[39;00m ret:\n\u001b[0;32m     65\u001b[0m     logger\u001b[38;5;241m.\u001b[39mwarning(\u001b[38;5;124m\"\u001b[39m\u001b[38;5;124mStream read failure.\u001b[39m\u001b[38;5;124m\"\u001b[39m)\n\u001b[1;32m---> 66\u001b[0m     time\u001b[38;5;241m.\u001b[39msleep(\u001b[38;5;241m1\u001b[39m)\n\u001b[0;32m     67\u001b[0m     \u001b[38;5;28;01mcontinue\u001b[39;00m\n\u001b[0;32m     68\u001b[0m \u001b[38;5;66;03m# Skip frame if not enough time has passed since last frame (FPS)\u001b[39;00m\n",
      "\u001b[1;31mKeyboardInterrupt\u001b[0m: "
     ]
    }
   ],
   "source": [
    "%run pipeline/run_pipeline.py --config config.yaml"
   ]
  },
  {
   "cell_type": "markdown",
   "id": "f75e9816-4dec-472b-adb1-6803f76d6347",
   "metadata": {},
   "source": [
    "## Monitor Detections\n",
    "\n",
    "The pipeline monitors the video feed and saves detections in the `detections/` folder.\n",
    "\n",
    "When configured, the pipeline can send email alerts, allowing for real-time remote notifications."
   ]
  },
  {
   "cell_type": "code",
   "execution_count": null,
   "id": "f3f6a037-6d39-41e6-862f-90ae185c4a7f",
   "metadata": {},
   "outputs": [],
   "source": []
  }
 ],
 "metadata": {
  "kernelspec": {
   "display_name": "Python 3 (ipykernel)",
   "language": "python",
   "name": "python3"
  },
  "language_info": {
   "codemirror_mode": {
    "name": "ipython",
    "version": 3
   },
   "file_extension": ".py",
   "mimetype": "text/x-python",
   "name": "python",
   "nbconvert_exporter": "python",
   "pygments_lexer": "ipython3",
   "version": "3.12.3"
  }
 },
 "nbformat": 4,
 "nbformat_minor": 5
}
